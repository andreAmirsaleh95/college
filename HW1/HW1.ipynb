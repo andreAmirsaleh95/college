{
 "cells": [
  {
   "cell_type": "code",
   "execution_count": null,
   "metadata": {
    "collapsed": true
   },
   "outputs": [],
   "source": [
    "# Import pregnancy data"
   ]
  },
  {
   "cell_type": "code",
   "execution_count": 25,
   "metadata": {
    "collapsed": true
   },
   "outputs": [],
   "source": [
    "from __future__ import print_function, division\n",
    "\n",
    "%matplotlib inline\n",
    "\n",
    "import numpy as np\n",
    "\n",
    "import nsfg\n",
    "import first\n",
    "import thinkstats2\n",
    "import thinkplot"
   ]
  },
  {
   "cell_type": "code",
   "execution_count": 90,
   "metadata": {
    "collapsed": false
   },
   "outputs": [
    {
     "data": {
      "image/png": "[encoded data removed]",
      "text/plain": [
       "<matplotlib.figure.Figure at 0x118ac5c18>"
      ]
     },
     "metadata": {},
     "output_type": "display_data"
    }
   ],
   "source": [
    "# Chapter 1 - Exercise 3:\n",
    "# Question: In 2002, were fifteen-to-fourty-four-year-old American women who had\n",
    "#           an abortion typically younger than those who decided not to abort?\n",
    "abortion_mom_ages = [age for age in preg[preg.pregend1==3].ageatend if age in range(15, 45)]\n",
    "non_abortion_mom_ages = [age for age in preg[preg.pregend1!=3].ageatend if age in range(15, 45)]\n",
    "abortion_mom_age_hist = thinkstats2.Hist( abortion_mom_ages, label = 'Abortion Mom Age' )\n",
    "thinkplot.Hist( abortion_mom_age_hist )\n",
    "thinkplot.Config( xlabel='Years of Age', ylabel='Count' )\n",
    "non_abortion_mom_age_hist = thinkstats2.Hist( non_abortion_mom_ages, label = 'Non-Abortion Mom Age' )\n",
    "thinkplot.Hist( non_abortion_mom_age_hist )\n",
    "thinkplot.Config( xlabel='Years of Age', ylabel='Count' )"
   ]
  },
  {
   "cell_type": "code",
   "execution_count": 93,
   "metadata": {
    "collapsed": false
   },
   "outputs": [
    {
     "name": "stdout",
     "output_type": "stream",
     "text": [
      "The histograms reveal that both data sets are left-skewed.\n",
      "Because the median is a more robust measure of the average,\n",
      "let us compare the averages by comparing the medians.\n",
      "\n",
      "median abortion mom age - median non-abortion mom age = -2.0 < 0\n",
      "\n",
      "Thus, in 2002, fifteen-to-fourty-four-year-old American women\n",
      "who had an abortion were typically younger than those who did not.\n"
     ]
    }
   ],
   "source": [
    "# Chapter 1 - Exercise 3 (continued)\n",
    "\n",
    "#abortion_mom_age_mean = sum( abortion_mom_ages ) / len( abortion_mom_ages )\n",
    "#non_abortion_mom_age_mean = sum( non_abortion_mom_ages ) / len( non_abortion_mom_ages )\n",
    "#diff_btwn_means = abortion_mom_age_mean - non_abortion_mom_age_mean\n",
    "#print( \"mean abortion mom age - mean non-abortion mom age = \" + str( diff_btwn_means ) )\n",
    "\n",
    "print( \"The histograms reveal that both data sets are left-skewed.\\nBecause the median is a more robust measure of the average,\\nlet us compare the averages by comparing the medians.\" )\n",
    "print()\n",
    "abortion_mom_age_median = abortion_mom_ages[len(abortion_mom_ages)//2]\n",
    "non_abortion_mom_age_median = non_abortion_mom_ages[len(non_abortion_mom_ages)//2]\n",
    "diff_btwn_medians = abortion_mom_age_median - non_abortion_mom_age_median\n",
    "print( \"median abortion mom age - median non-abortion mom age = \" + str( diff_btwn_medians ) + \" < 0\" )\n",
    "print()\n",
    "print( \"Thus, in 2002, fifteen-to-fourty-four-year-old American women\\nwho had an abortion were typically younger than those who did not.\" )"
   ]
  },
  {
   "cell_type": "code",
   "execution_count": 122,
   "metadata": {
    "collapsed": false
   },
   "outputs": [],
   "source": [
    "# Chapter 2 - Exercise 3:\n",
    "def Mode( a_hist ):\n",
    "    current_mode = 0\n",
    "    for age in abortion_mom_age_hist:\n",
    "        if abortion_mom_age_hist[age] > abortion_mom_age_hist[current_mode]:\n",
    "            current_mode = age\n",
    "    return current_mode\n",
    "\n",
    "def AllModes( a_hist ):\n",
    "    list_of_tuples = [0] * len( a_hist ) # initialize array\n",
    "    num_tuples = 0\n",
    "    for value in a_hist:\n",
    "        list_of_tuples[num_tuples] = (value, a_hist[value])\n",
    "        index = num_tuples\n",
    "        while index > 0 and list_of_tuples[index][1] > list_of_tuples[index-1][1]:\n",
    "            temp = list_of_tuples[index]\n",
    "            list_of_tuples[index] = list_of_tuples[index-1]\n",
    "            list_of_tuples[index-1] = temp\n",
    "            index -= 1\n",
    "        num_tuples += 1\n",
    "    return list_of_tuples"
   ]
  },
  {
   "cell_type": "code",
   "execution_count": 127,
   "metadata": {
    "collapsed": false
   },
   "outputs": [
    {
     "name": "stdout",
     "output_type": "stream",
     "text": [
      "Cohen's difference = -0.108450242544 < 0\n",
      "Thus, firstborns are typically lighter than others.\n",
      "From Chapter 2, Exercise 2, we know that Cohen's difference of firstborns' pregnancy length\n",
      "versus that of others is 0.028879044654449883, which is not nearly as significant.\n"
     ]
    }
   ],
   "source": [
    "# Chapter 2 - Exercise 4:\n",
    "\n",
    "def CohenEffectSize(group1, group2):\n",
    "    \"\"\"Computes Cohen's effect size for two groups.\n",
    "    \n",
    "    group1: Series or DataFrame\n",
    "    group2: Series or DataFrame\n",
    "    \n",
    "    returns: float if the arguments are Series;\n",
    "             Series if the arguments are DataFrames\n",
    "    \"\"\"\n",
    "    diff = group1.mean() - group2.mean()\n",
    "\n",
    "    var1 = group1.var()\n",
    "    var2 = group2.var()\n",
    "    n1, n2 = len(group1), len(group2)\n",
    "\n",
    "    pooled_var = (n1 * var1 + n2 * var2) / (n1 + n2)\n",
    "    d = diff / np.sqrt(pooled_var)\n",
    "    return d\n",
    "\n",
    "live = preg[preg.outcome==1]\n",
    "firsts = live[live.birthord==1]\n",
    "others = live[live.birthord!=1]\n",
    "cohens_d = CohenEffectSize( firsts.birthwgt_lb, others.birthwgt_lb )\n",
    "print( \"Cohen's difference = \" + str( cohens_d ) + \" < 0\" )\n",
    "print( \"Thus, firstborns are typically lighter than others.\" )\n",
    "print( \"From Chapter 2, Exercise 2, we know that Cohen's difference of firstborns' pregnancy length\\nversus that of others is 0.028879044654449883, which is not nearly as significant.\" )"
   ]
  },
  {
   "cell_type": "code",
   "execution_count": null,
   "metadata": {
    "collapsed": true
   },
   "outputs": [],
   "source": []
  }
 ],
 "metadata": {
  "kernelspec": {
   "display_name": "Python 3",
   "language": "python",
   "name": "python3"
  },
  "language_info": {
   "codemirror_mode": {
    "name": "ipython",
    "version": 3
   },
   "file_extension": ".py",
   "mimetype": "text/x-python",
   "name": "python",
   "nbconvert_exporter": "python",
   "pygments_lexer": "ipython3",
   "version": "3.6.0"
  }
 },
 "nbformat": 4,
 "nbformat_minor": 2
}
